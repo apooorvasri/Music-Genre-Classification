{
 "cells": [
  {
   "cell_type": "code",
   "execution_count": null,
   "metadata": {},
   "outputs": [],
   "source": [
    "import os\n",
    "import glob\n",
    "import librosa\n",
    "from mfcc import *\n",
    "import numpy as np\n",
    "import pandas as pd\n",
    "import seaborn as sns\n",
    "from sklearn import svm\n",
    "import matplotlib.pyplot as plt\n",
    "from sklearn.cluster import KMeans\n",
    "from sklearn.metrics import accuracy_score\n",
    "from sklearn.preprocessing import StandardScaler\n",
    "from sklearn.metrics import classification_report\n",
    "from sklearn.neighbors import KNeighborsClassifier\n",
    "from sklearn.model_selection import train_test_split"
   ]
  },
  {
   "cell_type": "code",
   "execution_count": null,
   "metadata": {
    "scrolled": true
   },
   "outputs": [],
   "source": [
    "DATA_PATH = \"./genres/\"\n",
    "genres = {}\n",
    "\n",
    "genres = {name: i for i, name in enumerate(os.listdir(DATA_PATH)) if os.path.isdir(DATA_PATH + name)}\n",
    "print(genres)\n",
    "if os.path.exists(\"./dataset.csv\"):\n",
    "    df = pd.read_csv(\"./dataset.csv\", header = 0)\n",
    "else:\n",
    "    X, y = parseAudio(DATA_PATH, genres, mfcc_coeff = 20)\n",
    "    features = [\"mfcc_\" + str(i + 1) for i in range(len(X[0]) - 2)]\n",
    "    features.append(\"amplitude_envelope\")\n",
    "    features.append(\"RMSE\")\n",
    "    df = pd.DataFrame(X, columns = features)\n",
    "    df[\"target\"] = y\n",
    "    df.to_csv(r\"./dataset.csv\", index = False)\n",
    "\n",
    "X, y = df.iloc[:, 0:-1], df.iloc[:, -1]\n",
    "sc = StandardScaler()\n",
    "X = sc.fit_transform(X)\n",
    "\n",
    "X_train, X_test, y_train, y_test = train_test_split(X, y, test_size = 0.3)"
   ]
  },
  {
   "cell_type": "code",
   "execution_count": null,
   "metadata": {},
   "outputs": [],
   "source": [
    "# Splitting data for train and test\n",
    "X_train = pd.DataFrame(X_train)\n",
    "X_train[\"category\"] = y_train"
   ]
  },
  {
   "cell_type": "code",
   "execution_count": null,
   "metadata": {},
   "outputs": [],
   "source": [
    "sns.pairplot(X_train, hue = \"category\")\n",
    "X_train = X_train.drop(columns = ['category'])"
   ]
  },
  {
   "cell_type": "code",
   "execution_count": 111,
   "metadata": {},
   "outputs": [],
   "source": [
    "# Training KMC Model\n",
    "kmc_model = KMeans(n_clusters = len(genres))\n",
    "kmc_model.fit(X_train)\n",
    "\n",
    "# Training KNN Model\n",
    "knn_model = KNeighborsClassifier()\n",
    "knn_model.fit(X_train, y_train)\n",
    "\n",
    "# Training SVM Model\n",
    "svm_linear = svm.SVC(kernel='linear', gamma = 0.5, C = 1).fit(X_train, y_train)\n",
    "svm_poly = svm.SVC(kernel='poly', degree = 1, C = 1).fit(X_train, y_train)"
   ]
  },
  {
   "cell_type": "code",
   "execution_count": 112,
   "metadata": {},
   "outputs": [
    {
     "name": "stdout",
     "output_type": "stream",
     "text": [
      "KMC Predict accuracy: 3.0 %\n",
      "KNN Predict accuracy: 58.666666666666664 %\n",
      "SVM Polynomial Predict accuracy: 58.333333333333336 %\n",
      "SVM Linear Predict accuracy: 60.66666666666667 %\n"
     ]
    },
    {
     "data": {
      "text/html": [
       "<div>\n",
       "<style scoped>\n",
       "    .dataframe tbody tr th:only-of-type {\n",
       "        vertical-align: middle;\n",
       "    }\n",
       "\n",
       "    .dataframe tbody tr th {\n",
       "        vertical-align: top;\n",
       "    }\n",
       "\n",
       "    .dataframe thead th {\n",
       "        text-align: right;\n",
       "    }\n",
       "</style>\n",
       "<table border=\"1\" class=\"dataframe\">\n",
       "  <thead>\n",
       "    <tr style=\"text-align: right;\">\n",
       "      <th></th>\n",
       "      <th>KNN</th>\n",
       "      <th>KMC</th>\n",
       "      <th>Linear SVM</th>\n",
       "      <th>Polynomial SVM</th>\n",
       "      <th>Actual</th>\n",
       "    </tr>\n",
       "  </thead>\n",
       "  <tbody>\n",
       "    <tr>\n",
       "      <th>0</th>\n",
       "      <td>classical</td>\n",
       "      <td>hiphop</td>\n",
       "      <td>classical</td>\n",
       "      <td>classical</td>\n",
       "      <td>classical</td>\n",
       "    </tr>\n",
       "    <tr>\n",
       "      <th>1</th>\n",
       "      <td>hiphop</td>\n",
       "      <td>disco</td>\n",
       "      <td>hiphop</td>\n",
       "      <td>hiphop</td>\n",
       "      <td>hiphop</td>\n",
       "    </tr>\n",
       "    <tr>\n",
       "      <th>2</th>\n",
       "      <td>country</td>\n",
       "      <td>pop</td>\n",
       "      <td>blues</td>\n",
       "      <td>blues</td>\n",
       "      <td>jazz</td>\n",
       "    </tr>\n",
       "    <tr>\n",
       "      <th>3</th>\n",
       "      <td>reggae</td>\n",
       "      <td>metal</td>\n",
       "      <td>reggae</td>\n",
       "      <td>reggae</td>\n",
       "      <td>reggae</td>\n",
       "    </tr>\n",
       "    <tr>\n",
       "      <th>4</th>\n",
       "      <td>reggae</td>\n",
       "      <td>disco</td>\n",
       "      <td>jazz</td>\n",
       "      <td>jazz</td>\n",
       "      <td>blues</td>\n",
       "    </tr>\n",
       "    <tr>\n",
       "      <th>...</th>\n",
       "      <td>...</td>\n",
       "      <td>...</td>\n",
       "      <td>...</td>\n",
       "      <td>...</td>\n",
       "      <td>...</td>\n",
       "    </tr>\n",
       "    <tr>\n",
       "      <th>295</th>\n",
       "      <td>hiphop</td>\n",
       "      <td>jazz</td>\n",
       "      <td>hiphop</td>\n",
       "      <td>hiphop</td>\n",
       "      <td>hiphop</td>\n",
       "    </tr>\n",
       "    <tr>\n",
       "      <th>296</th>\n",
       "      <td>classical</td>\n",
       "      <td>rock</td>\n",
       "      <td>jazz</td>\n",
       "      <td>jazz</td>\n",
       "      <td>reggae</td>\n",
       "    </tr>\n",
       "    <tr>\n",
       "      <th>297</th>\n",
       "      <td>reggae</td>\n",
       "      <td>disco</td>\n",
       "      <td>reggae</td>\n",
       "      <td>reggae</td>\n",
       "      <td>reggae</td>\n",
       "    </tr>\n",
       "    <tr>\n",
       "      <th>298</th>\n",
       "      <td>jazz</td>\n",
       "      <td>blues</td>\n",
       "      <td>jazz</td>\n",
       "      <td>country</td>\n",
       "      <td>jazz</td>\n",
       "    </tr>\n",
       "    <tr>\n",
       "      <th>299</th>\n",
       "      <td>disco</td>\n",
       "      <td>jazz</td>\n",
       "      <td>disco</td>\n",
       "      <td>disco</td>\n",
       "      <td>disco</td>\n",
       "    </tr>\n",
       "  </tbody>\n",
       "</table>\n",
       "<p>300 rows × 5 columns</p>\n",
       "</div>"
      ],
      "text/plain": [
       "           KNN     KMC Linear SVM Polynomial SVM     Actual\n",
       "0    classical  hiphop  classical      classical  classical\n",
       "1       hiphop   disco     hiphop         hiphop     hiphop\n",
       "2      country     pop      blues          blues       jazz\n",
       "3       reggae   metal     reggae         reggae     reggae\n",
       "4       reggae   disco       jazz           jazz      blues\n",
       "..         ...     ...        ...            ...        ...\n",
       "295     hiphop    jazz     hiphop         hiphop     hiphop\n",
       "296  classical    rock       jazz           jazz     reggae\n",
       "297     reggae   disco     reggae         reggae     reggae\n",
       "298       jazz   blues       jazz        country       jazz\n",
       "299      disco    jazz      disco          disco      disco\n",
       "\n",
       "[300 rows x 5 columns]"
      ]
     },
     "execution_count": 112,
     "metadata": {},
     "output_type": "execute_result"
    },
    {
     "data": {
      "image/png": "[encoded data removed]",
      "text/plain": [
       "<Figure size 432x288 with 1 Axes>"
      ]
     },
     "metadata": {
      "needs_background": "light"
     },
     "output_type": "display_data"
    }
   ],
   "source": [
    "genres_inv = {v: k for k, v in genres.items()}\n",
    "y_test_val = np.array([genres_inv[i] for i in y_test])\n",
    "accuracy = dict()\n",
    "\n",
    "# KMC Prediction\n",
    "kmc_pred = kmc_model.predict(X_test)\n",
    "kmc_pred_val = np.array([genres_inv[i] for i in kmc_pred])\n",
    "kmc_accuracy = accuracy_score(kmc_pred, y_test)\n",
    "accuracy[\"kmc\"]  = kmc_accuracy * 100\n",
    "print(\"KMC Predict accuracy:\", kmc_accuracy * 100, \"%\")\n",
    "\n",
    "# KNN Prediction\n",
    "knn_pred = knn_model.predict(X_test)\n",
    "knn_pred_val = np.array([genres_inv[i] for i in knn_pred])\n",
    "knn_accuracy = accuracy_score(knn_pred, y_test)\n",
    "accuracy[\"knn\"]  = knn_accuracy * 100\n",
    "print(\"KNN Predict accuracy:\", knn_accuracy * 100, \"%\")\n",
    "\n",
    "# SVM Predictions\n",
    "poly_pred = svm_poly.predict(X_test)\n",
    "poly_svm_pred_val = np.array([genres_inv[i] for i in poly_pred])\n",
    "poly_accuracy = accuracy_score(y_test, poly_pred)\n",
    "accuracy[\"poly_svm\"]  = poly_accuracy * 100\n",
    "print(\"SVM Polynomial Predict accuracy:\", poly_accuracy * 100, \"%\")\n",
    "\n",
    "linear_pred = svm_linear.predict(X_test)\n",
    "linear_svm_pred_val = np.array([genres_inv[i] for i in linear_pred])\n",
    "linear_accuracy = accuracy_score(y_test, linear_pred)\n",
    "accuracy[\"linear_svm\"]  = linear_accuracy * 100\n",
    "print(\"SVM Linear Predict accuracy:\", linear_accuracy * 100, \"%\")\n",
    "\n",
    "predictions = pd.DataFrame(np.concatenate(\n",
    "    (\n",
    "        knn_pred_val.reshape(len(y_test_val),1), \n",
    "        kmc_pred_val.reshape(len(y_test_val),1), \n",
    "        linear_svm_pred_val.reshape(len(y_test_val),1), \n",
    "        poly_svm_pred_val.reshape(len(y_test_val),1),\n",
    "        y_test_val.reshape(len(y_test_val),1))\n",
    "    , 1), \n",
    "    columns = [\"KNN\", \"KMC\", \"Linear SVM\", \"Polynomial SVM\", \"Actual\"])\n",
    "\n",
    "\n",
    "plt.plot(accuracy.keys(), accuracy.values())\n",
    "predictions"
   ]
  },
  {
   "cell_type": "code",
   "execution_count": 27,
   "metadata": {},
   "outputs": [
    {
     "name": "stdout",
     "output_type": "stream",
     "text": [
      "Result For KMC:\n",
      "              precision    recall  f1-score   support\n",
      "\n",
      "       blues       0.13      0.22      0.17        27\n",
      "   classical       0.00      0.00      0.00        26\n",
      "     country       0.08      0.10      0.09        29\n",
      "       disco       0.00      0.00      0.00        33\n",
      "      hiphop       0.08      0.06      0.07        31\n",
      "        jazz       0.15      0.06      0.09        31\n",
      "       metal       0.31      0.37      0.33        30\n",
      "         pop       0.61      0.79      0.69        38\n",
      "      reggae       0.20      0.03      0.05        33\n",
      "        rock       0.00      0.00      0.00        22\n",
      "\n",
      "    accuracy                           0.18       300\n",
      "   macro avg       0.16      0.16      0.15       300\n",
      "weighted avg       0.17      0.18      0.17       300\n",
      "\n"
     ]
    }
   ],
   "source": [
    "# result = precision_recall_fscore_support(y_true = y_test_val, y_pred = kmc_pred_val)\n",
    "# result = pd.DataFrame(result)\n",
    "# result\n",
    "result = classification_report(y_true = y_test_val, y_pred = kmc_pred_val, target_names = genres.keys())\n",
    "print(\"Result For KMC:\")\n",
    "print(result)"
   ]
  },
  {
   "cell_type": "code",
   "execution_count": 148,
   "metadata": {},
   "outputs": [
    {
     "name": "stdout",
     "output_type": "stream",
     "text": [
      "Result For KNN:\n",
      "              precision    recall  f1-score   support\n",
      "\n",
      "       blues       0.62      0.75      0.68        20\n",
      "   classical       0.82      0.94      0.88        34\n",
      "     country       0.42      0.50      0.45        30\n",
      "       disco       0.58      0.52      0.55        42\n",
      "      hiphop       0.54      0.40      0.46        35\n",
      "        jazz       0.74      0.56      0.64        25\n",
      "       metal       0.64      0.59      0.62        27\n",
      "         pop       0.59      0.73      0.66        30\n",
      "      reggae       0.71      0.57      0.63        30\n",
      "        rock       0.28      0.33      0.31        27\n",
      "\n",
      "    accuracy                           0.59       300\n",
      "   macro avg       0.59      0.59      0.59       300\n",
      "weighted avg       0.59      0.59      0.59       300\n",
      "\n"
     ]
    }
   ],
   "source": [
    "result = classification_report(y_true = y_test_val, y_pred = knn_pred_val, target_names = genres.keys())\n",
    "print(\"Result For KNN:\")\n",
    "print(result)"
   ]
  },
  {
   "cell_type": "code",
   "execution_count": 29,
   "metadata": {},
   "outputs": [
    {
     "name": "stdout",
     "output_type": "stream",
     "text": [
      "Result For Poly SVM:\n",
      "              precision    recall  f1-score   support\n",
      "\n",
      "       blues       0.49      0.67      0.56        27\n",
      "   classical       0.89      0.96      0.93        26\n",
      "     country       0.56      0.52      0.54        29\n",
      "       disco       0.52      0.33      0.41        33\n",
      "      hiphop       0.50      0.55      0.52        31\n",
      "        jazz       0.68      0.55      0.61        31\n",
      "       metal       0.70      0.87      0.78        30\n",
      "         pop       0.89      0.82      0.85        38\n",
      "      reggae       0.68      0.58      0.62        33\n",
      "        rock       0.14      0.18      0.16        22\n",
      "\n",
      "    accuracy                           0.61       300\n",
      "   macro avg       0.60      0.60      0.60       300\n",
      "weighted avg       0.62      0.61      0.61       300\n",
      "\n"
     ]
    }
   ],
   "source": [
    "result = classification_report(y_true = y_test_val, y_pred = poly_svm_pred_val, target_names = genres.keys())\n",
    "print(\"Result For Poly SVM:\")\n",
    "print(result)"
   ]
  },
  {
   "cell_type": "code",
   "execution_count": 30,
   "metadata": {},
   "outputs": [
    {
     "name": "stdout",
     "output_type": "stream",
     "text": [
      "Result For Linear SVM:\n",
      "              precision    recall  f1-score   support\n",
      "\n",
      "       blues       0.58      0.81      0.68        27\n",
      "   classical       0.89      0.96      0.93        26\n",
      "     country       0.42      0.52      0.46        29\n",
      "       disco       0.53      0.48      0.51        33\n",
      "      hiphop       0.47      0.55      0.51        31\n",
      "        jazz       0.68      0.55      0.61        31\n",
      "       metal       0.79      0.77      0.78        30\n",
      "         pop       0.94      0.76      0.84        38\n",
      "      reggae       0.65      0.52      0.58        33\n",
      "        rock       0.24      0.23      0.23        22\n",
      "\n",
      "    accuracy                           0.62       300\n",
      "   macro avg       0.62      0.61      0.61       300\n",
      "weighted avg       0.63      0.62      0.62       300\n",
      "\n"
     ]
    }
   ],
   "source": [
    "result = classification_report(y_true = y_test_val, y_pred = linear_svm_pred_val, target_names = genres.keys())\n",
    "print(\"Result For Linear SVM:\")\n",
    "print(result)"
   ]
  }
 ],
 "metadata": {
  "kernelspec": {
   "display_name": "Python 3 (ipykernel)",
   "language": "python",
   "name": "python3"
  },
  "language_info": {
   "codemirror_mode": {
    "name": "ipython",
    "version": 3
   },
   "file_extension": ".py",
   "mimetype": "text/x-python",
   "name": "python",
   "nbconvert_exporter": "python",
   "pygments_lexer": "ipython3",
   "version": "3.7.13"
  }
 },
 "nbformat": 4,
 "nbformat_minor": 2
}
